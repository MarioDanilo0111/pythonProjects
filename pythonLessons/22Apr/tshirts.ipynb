{
 "cells": [
  {
   "cell_type": "markdown",
   "metadata": {},
   "source": [
    "## Inspected data\n"
   ]
  },
  {
   "cell_type": "code",
   "execution_count": 84,
   "metadata": {},
   "outputs": [],
   "source": [
    "import pandas as pd\n",
    "\n",
    "female = pd.read_csv('./data/female.csv')\n",
    "male = pd.read_csv('./data/male.csv')"
   ]
  },
  {
   "cell_type": "markdown",
   "metadata": {},
   "source": [
    "Printig Values\n"
   ]
  },
  {
   "cell_type": "code",
   "execution_count": 85,
   "metadata": {},
   "outputs": [
    {
     "name": "stdout",
     "output_type": "stream",
     "text": [
      "From women: (rows, columns) (1986, 108)\n",
      "From men: (rows, columns) (4082, 108)\n"
     ]
    }
   ],
   "source": [
    "print(f'From women: (rows, columns) {female.shape}')\n",
    "print(f'From men: (rows, columns) {male.shape}')"
   ]
  },
  {
   "cell_type": "markdown",
   "metadata": {},
   "source": [
    "## Checking the percentiles\n",
    "\n",
    "Determining the percentiles of the data.\n"
   ]
  },
  {
   "cell_type": "code",
   "execution_count": 86,
   "metadata": {},
   "outputs": [
    {
     "name": "stdout",
     "output_type": "stream",
     "text": [
      "{(0, 5): 100, (5, 25): 403, (25, 50): 505, (50, 75): 505, (75, 90): 306, (90, 97): 140, (97, 100): 60}\n",
      "{(0, 5): 103, (5, 25): 412, (25, 50): 529, (50, 75): 586, (75, 90): 309, (90, 97): 147, (97, 100): 62}\n",
      "{(0, 5): 213, (5, 25): 824, (25, 50): 1046, (50, 75): 1033, (75, 90): 630, (90, 97): 301, (97, 100): 125}\n",
      "{(0, 5): 211, (5, 25): 861, (25, 50): 1090, (50, 75): 1148, (75, 90): 648, (90, 97): 303, (97, 100): 123}\n"
     ]
    }
   ],
   "source": [
    "def compute_percentile_range(column):\n",
    "  #Define percentile range\n",
    "  ranges = [(0, 5), (5, 25), (25, 50), (50, 75), (75, 90), (90, 97), (97, 100)]\n",
    "\n",
    "  #Define percentile ranks for each range\n",
    "  #beräkna percentiler för varje specificerat intervall\n",
    "  percentiles = {(low, high): (column.quantile(low/100), column.quantile(high/100)) for low, high in ranges}\n",
    "\n",
    "  # print(percentiles)\n",
    "  #antalet poster som faller inom varje percetilintervall\n",
    "  counts = {}\n",
    "\n",
    "  for r, (low, high) in percentiles.items():\n",
    "    counts[r] = ((column >= low) & (column <= high)).sum()\n",
    "  return counts\n",
    "\n",
    "print(compute_percentile_range(female['chestcircumference']))\n",
    "print(compute_percentile_range(female['biacromialbreadth']))\n",
    "\n",
    "print(compute_percentile_range(male['chestcircumference']))\n",
    "print(compute_percentile_range(male['biacromialbreadth']))"
   ]
  },
  {
   "cell_type": "markdown",
   "metadata": {},
   "source": [
    "## Generate T-shirt size Chart\n"
   ]
  },
  {
   "cell_type": "code",
   "execution_count": 87,
   "metadata": {},
   "outputs": [
    {
     "name": "stdout",
     "output_type": "stream",
     "text": [
      "{'XS': {'Chest': 695, 'Shoulder': 283}, 'S': {'Chest': 824, 'Shoulder': 335}, 'M': {'Chest': 889, 'Shoulder': 353}, 'L': {'Chest': 940, 'Shoulder': 365}, 'XL': {'Chest': 999, 'Shoulder': 378}, 'XXL': {'Chest': 1057, 'Shoulder': 389}, '3XL': {'Chest': 1117, 'Shoulder': 400}}\n",
      "{'XS': {'Chest': 774, 'Shoulder': 337}, 'S': {'Chest': 922, 'Shoulder': 384}, 'M': {'Chest': 996, 'Shoulder': 403}, 'L': {'Chest': 1056, 'Shoulder': 415}, 'XL': {'Chest': 1117, 'Shoulder': 428}, 'XXL': {'Chest': 1172, 'Shoulder': 441}, '3XL': {'Chest': 1233, 'Shoulder': 452}}\n"
     ]
    }
   ],
   "source": [
    "def compute_percentile_measurments(data, chest_column, shoulder_column):\n",
    "  sizes = ['XS', 'S', 'M', 'L', 'XL', 'XXL', '3XL']\n",
    "  ranges = [0,5,25,50,75,90,97]\n",
    "\n",
    "  #Compute the value for each percentile for chest \n",
    "  chest_percentiles = {p: data[chest_column].quantile(p/100) for p in ranges}\n",
    "  #Compute the value for each percentile for shoulder\n",
    "  shoulder_percentiles = {p: data[shoulder_column].quantile(p/100) for p in ranges}\n",
    "\n",
    "  # print(f'Chest Value:{chest_percentiles}')\n",
    "  # print(f'Shoulder Value:{shoulder_percentiles}')\n",
    "\n",
    "  #map the t-shirt sizes to the corresponding chest and shoulder measurments \n",
    "  size_mappings = {}\n",
    "  for i, size in enumerate(sizes):\n",
    "    size_mappings[size] = {\n",
    "      'Chest': int(chest_percentiles[ranges[i]]),\n",
    "      'Shoulder': int(shoulder_percentiles[ranges[i]])\n",
    "    }\n",
    "  return size_mappings\n",
    "\n",
    "female_sizes = compute_percentile_measurments(female, 'chestcircumference', 'biacromialbreadth')\n",
    "male_sizes = compute_percentile_measurments(male, 'chestcircumference', 'biacromialbreadth')\n",
    "\n",
    "print(female_sizes)\n",
    "print(male_sizes)"
   ]
  },
  {
   "cell_type": "code",
   "execution_count": 88,
   "metadata": {},
   "outputs": [
    {
     "data": {
      "text/plain": [
       "{'XS': {'Chest': 695, 'Shoulder': 283},\n",
       " 'S': {'Chest': 824, 'Shoulder': 335},\n",
       " 'M': {'Chest': 889, 'Shoulder': 353},\n",
       " 'L': {'Chest': 940, 'Shoulder': 365},\n",
       " 'XL': {'Chest': 999, 'Shoulder': 378},\n",
       " 'XXL': {'Chest': 1057, 'Shoulder': 389},\n",
       " '3XL': {'Chest': 1117, 'Shoulder': 400}}"
      ]
     },
     "execution_count": 88,
     "metadata": {},
     "output_type": "execute_result"
    }
   ],
   "source": [
    "female_sizes\n"
   ]
  },
  {
   "cell_type": "code",
   "execution_count": 89,
   "metadata": {},
   "outputs": [
    {
     "data": {
      "text/plain": [
       "{'XS': {'Chest': 774, 'Shoulder': 337},\n",
       " 'S': {'Chest': 922, 'Shoulder': 384},\n",
       " 'M': {'Chest': 996, 'Shoulder': 403},\n",
       " 'L': {'Chest': 1056, 'Shoulder': 415},\n",
       " 'XL': {'Chest': 1117, 'Shoulder': 428},\n",
       " 'XXL': {'Chest': 1172, 'Shoulder': 441},\n",
       " '3XL': {'Chest': 1233, 'Shoulder': 452}}"
      ]
     },
     "execution_count": 89,
     "metadata": {},
     "output_type": "execute_result"
    }
   ],
   "source": [
    "male_sizes"
   ]
  },
  {
   "cell_type": "code",
   "execution_count": 90,
   "metadata": {},
   "outputs": [],
   "source": [
    "def get_size(data, size_chart ):\n",
    "  #Create a dictionary with size as key and number of matches as value\n",
    "  matches = {size: 0 for size in size_chart.keys()}\n",
    "  ties = 0\n",
    "  \n",
    "  #Iterate through each row in the dataframe\n",
    "  for _, row in data.iterrows():\n",
    "    possible_sizes = []\n",
    "    #Loop through each size in the size chart\n",
    "    for size, measurments in size_chart.items():\n",
    "      #Check if the chest circumference and biacromial breadth are within the range of the size\n",
    "      if (row['biacromialbreadth'] <= measurments['Shoulder'] and \n",
    "          row['chestcircumference'] <= measurments['Chest']):\n",
    "          possible_sizes.append(size)\n",
    "   #if  only one size is possible, add 1 to the number of matches \n",
    "  if len(possible_sizes) == 1:\n",
    "          matches[possible_sizes[0]] += 1\n",
    "  #if there are more possible sizes, increce for ties\n",
    "  elif len(possible_sizes) > 1:\n",
    "          ties += 1\n",
    "\n",
    "  return matches, ties"
   ]
  },
  {
   "cell_type": "code",
   "execution_count": 91,
   "metadata": {},
   "outputs": [
    {
     "name": "stdout",
     "output_type": "stream",
     "text": [
      "Female matches: {'XS': 0, 'S': 0, 'M': 0, 'L': 0, 'XL': 0, 'XXL': 0, '3XL': 0}\n",
      "Female ties: 1\n",
      "Male matches: {'XS': 0, 'S': 0, 'M': 0, 'L': 0, 'XL': 0, 'XXL': 0, '3XL': 1}\n",
      "Male ties: 0\n"
     ]
    }
   ],
   "source": [
    "#Get the number of matches and ties for each size\n",
    "female_matches, female_ties = get_size(female, female_sizes)\n",
    "#Get the number of matches and ties for each size\n",
    "male_matches, male_ties = get_size(male, male_sizes)\n",
    "\n",
    "print(f'Female matches: {female_matches}')\n",
    "print(f'Female ties: {female_ties}')\n",
    "\n",
    "print(f'Male matches: {male_matches}')\n",
    "print(f'Male ties: {male_ties}')\n"
   ]
  },
  {
   "cell_type": "markdown",
   "metadata": {},
   "source": [
    "This is not goo. Let us have overlapping measurments.\n"
   ]
  },
  {
   "cell_type": "code",
   "execution_count": 92,
   "metadata": {},
   "outputs": [],
   "source": [
    "#Create a chart with overlapping sizes\n",
    "def create_overlapping_sizes_chart(original_chart):\n",
    "  overlapping_chart ={}\n",
    "  #Get the list of sizes from the original chart\n",
    "  sizes = list(original_chart.keys())\n",
    "  #Iterate through each size\n",
    "  for i, size in enumerate(sizes):\n",
    "    #Create an empty dictionary for each size in the original chart\n",
    "    overlapping_chart[size] = {}\n",
    "    #Manipulate special cases for the first and last size\n",
    "    if i == 0:\n",
    "      #Create the overlapping chart for the first size with 5 sizes\n",
    "      overlapping_chart[size]['Chest'] = [original_chart[size]['Chest'],\n",
    "      original_chart[sizes[i+1]]['Chest']+5]\n",
    "      overlapping_chart[size]['Shoulder'] = [original_chart[size]['Shoulder'],\n",
    "      original_chart[sizes[i+1]]['Shoulder']+5]\n",
    "    \n",
    "    elif i == len(sizes)-1:\n",
    "      #under size with substracting 5 units and over size adding 1000 units\n",
    "      overlapping_chart[size]['Chest'] = [original_chart[size]['Chest']-5, original_chart[size]['Chest']+1000]\n",
    "      overlapping_chart[size]['Shoulder'] = [original_chart[size]['Shoulder']-5, original_chart[size]['Shoulder']+1000]\n",
    "    \n",
    "    else:\n",
    "      overlapping_chart[size]['Chest'] = [original_chart[size]['Chest']-5, original_chart[size]['Chest']+5]\n",
    "      overlapping_chart[size]['Shoulder'] = [original_chart[size]['Shoulder']-5, original_chart[size]['Shoulder']+5]\n",
    "    \n",
    "  #returning the new tabel with overlapping sizes\n",
    "  return overlapping_chart\n"
   ]
  },
  {
   "cell_type": "code",
   "execution_count": 93,
   "metadata": {},
   "outputs": [
    {
     "name": "stdout",
     "output_type": "stream",
     "text": [
      "'XS', '{'Chest': [695, 829], 'Shoulder': [283, 340]}'\n",
      "'S', '{'Chest': [819, 829], 'Shoulder': [330, 340]}'\n",
      "'M', '{'Chest': [884, 894], 'Shoulder': [348, 358]}'\n",
      "'L', '{'Chest': [935, 945], 'Shoulder': [360, 370]}'\n",
      "'XL', '{'Chest': [994, 1004], 'Shoulder': [373, 383]}'\n",
      "'XXL', '{'Chest': [1052, 1062], 'Shoulder': [384, 394]}'\n",
      "'3XL', '{'Chest': [1112, 2117], 'Shoulder': [395, 1400]}'\n",
      "----\n",
      "'XS': '{'Chest': [774, 927], 'Shoulder': [337, 389]}', \n",
      "'S': '{'Chest': [917, 927], 'Shoulder': [379, 389]}', \n",
      "'M': '{'Chest': [991, 1001], 'Shoulder': [398, 408]}', \n",
      "'L': '{'Chest': [1051, 1061], 'Shoulder': [410, 420]}', \n",
      "'XL': '{'Chest': [1112, 1122], 'Shoulder': [423, 433]}', \n",
      "'XXL': '{'Chest': [1167, 1177], 'Shoulder': [436, 446]}', \n",
      "'3XL': '{'Chest': [1228, 2233], 'Shoulder': [447, 1452]}', \n"
     ]
    }
   ],
   "source": [
    "new_female_sizes = create_overlapping_sizes_chart(female_sizes)\n",
    "\"\"\" print(new_female_sizes) \"\"\"\n",
    "\n",
    "new_male_sizes = create_overlapping_sizes_chart(male_sizes)\n",
    "\"\"\" print(new_male_sizes) \"\"\"\n",
    "\n",
    "for k, v in new_female_sizes.items():\n",
    "  print(f\"'{k}', '{v}'\")\n",
    "print('----')\n",
    "\n",
    "for k, v in new_male_sizes.items():\n",
    "  print(f\"'{k}': '{v}', \")"
   ]
  },
  {
   "cell_type": "code",
   "execution_count": 94,
   "metadata": {},
   "outputs": [],
   "source": [
    "female_sizes = {\n",
    "'XS' : {'Chest': [695, 829], 'Shoulder': [283, 340]},\n",
    "'S' : {'Chest': [819, 894], 'Shoulder': [330, 358]},\n",
    "'M' : {'Chest': [884, 945], 'Shoulder': [348, 370]},\n",
    "'L' : {'Chest': [935, 1004], 'Shoulder': [360, 383]},\n",
    "'XL' : {'Chest': [994, 1062], 'Shoulder': [373, 394]},\n",
    "'2XL' : {'Chest': [1052, 1122], 'Shoulder': [384, 405]},\n",
    "'3XL' : {'Chest': [1112, 2117], 'Shoulder': [395, 1400]}\n",
    "}\n",
    "\n",
    "male_sizes = {\n",
    "'XS' : {'Chest': [774, 927], 'Shoulder': [337, 389]},\n",
    "'S' : {'Chest': [917, 1001], 'Shoulder': [379, 408]},\n",
    "'M' : {'Chest': [991, 1061], 'Shoulder': [398, 420]},\n",
    "'L' : {'Chest': [1051, 1122], 'Shoulder': [410, 433]},\n",
    "'XL' : {'Chest': [1112, 1177], 'Shoulder': [423, 446]},\n",
    "'2XL' : {'Chest': [1167, 1238], 'Shoulder': [436, 457]},\n",
    "'3XL' : {'Chest': [1228, 2233], 'Shoulder': [447, 1452]}\n",
    "}"
   ]
  },
  {
   "cell_type": "code",
   "execution_count": 95,
   "metadata": {},
   "outputs": [],
   "source": [
    "def get_size(data, size_chart ):\n",
    "  \n",
    "  matches = {size: 0 for size in size_chart.keys()}\n",
    "  ties = 0\n",
    "  \n",
    "  #get the list of ordered sizes\n",
    "  size_ordered = list(size_chart.keys())\n",
    "  \n",
    "  for _, row in data.iterrows():\n",
    "    possible_sizes = []\n",
    "\n",
    "    for size, measurments in size_chart.items():\n",
    "         #Check if the sizes are within the range of the measurments of the size\n",
    "         if (row['biacromialbreadth'] >= measurments['Shoulder'][0] and \n",
    "            row['biacromialbreadth'] <= measurments['Shoulder'][1] and\n",
    "            row['chestcircumference'] >= measurments['Chest'][0] and\n",
    "            row['chestcircumference'] <= measurments['Chest'][1]):\n",
    "            possible_sizes.append(size)\n",
    "    \n",
    "    if len(possible_sizes) == 1:\n",
    "       matches[possible_sizes[0]] +=1\n",
    "    elif len(possible_sizes) > 1:\n",
    "       #Check if sizes are adjacent\n",
    "       are_adjacent = all([abs(size_ordered.index(possible_sizes[i])- size_ordered.index(possible_sizes[i+1])) == 1 \n",
    "                           for i in range(len(possible_sizes)-1)])\n",
    "\n",
    "       if are_adjacent:\n",
    "          #Assign the larger size\n",
    "          larger_size = max(possible_sizes, key=lambda s: size_ordered.index(s))\n",
    "          matches[larger_size] += 1\n",
    "       else:\n",
    "           ties += 1\n",
    "\n",
    "  return matches, ties\n",
    "\n"
   ]
  },
  {
   "cell_type": "code",
   "execution_count": 97,
   "metadata": {},
   "outputs": [
    {
     "name": "stdout",
     "output_type": "stream",
     "text": [
      "Female matches: {'XS': 23, 'S': 5, 'M': 17, 'L': 28, 'XL': 10, 'XXL': 5, '3XL': 13}\n",
      "Female ties: 0\n",
      "Male matches: {'XS': 63, 'S': 9, 'M': 36, 'L': 61, 'XL': 44, 'XXL': 13, '3XL': 50}\n",
      "Male ties: 0\n"
     ]
    }
   ],
   "source": [
    "female_matches, female_ties = get_size(female, new_female_sizes)\n",
    "male_matches, male_ties = get_size(male, new_male_sizes)\n",
    "\n",
    "print(f'Female matches: {female_matches}')\n",
    "print(f'Female ties: {female_ties}')\n",
    "print(f'Male matches: {male_matches}')\n",
    "print(f'Male ties: {male_ties}')"
   ]
  },
  {
   "cell_type": "code",
   "execution_count": 99,
   "metadata": {},
   "outputs": [],
   "source": [
    "def determine_size(value, measurement, size_dict):\n",
    "    \"\"\"\n",
    "    Determine clothing sizes that match the given body measurement value.\n",
    "    \n",
    "    Iterates through the provided size dictionary and finds all sizes where the \n",
    "    measurement range contains the given value.\n",
    "    \n",
    "    Parameters:\n",
    "      value: The body measurement value\n",
    "      measurement: The name of the measurement type\n",
    "      size_dict: Dictionary mapping clothing sizes to measurement ranges\n",
    "    \n",
    "    Returns:\n",
    "      sizes: List of clothing sizes matching the measurement value\n",
    "    \"\"\"\n",
    "    sizes = []\n",
    "    for size, measurements in size_dict.items():\n",
    "        if measurements[measurement][0] <= value <= measurements[measurement][1]:\n",
    "            sizes.append(size)\n",
    "    return sizes\n",
    "\n",
    "def determine_individual_size(row, size_dict):\n",
    "    \"\"\"\n",
    "    Determine individual clothing size based on chest circumference and shoulder width.\n",
    "    Matches the chest and shoulder measurements to clothing sizes in the provided size dictionary. \n",
    "    Returns a single matching size, or the larger of two adjacent sizes if there are multiple matches.\n",
    "    Returns None if no size matches or adjacent sizes cannot be determined.\n",
    "    \"\"\"\n",
    "    chest_size = determine_size(row['chestcircumference'], 'Chest', size_dict)\n",
    "    shoulder_size = determine_size(row['biacromialbreadth'], 'Shoulder', size_dict)\n",
    "    \n",
    "    matching_sizes = list(set(chest_size) & set(shoulder_size))\n",
    "    \n",
    "    if len(matching_sizes) == 1:\n",
    "        return matching_sizes[0]\n",
    "    elif len(matching_sizes) > 1:\n",
    "        # Check if sizes are adjacent, if so, select the larger size\n",
    "        size_order = list(size_dict.keys())\n",
    "        adjacent = all([abs(size_order.index(a) - size_order.index(b)) <= 1 for a in matching_sizes for b in matching_sizes])\n",
    "        if adjacent:\n",
    "            return max(matching_sizes, key=lambda x: size_order.index(x))\n",
    "    return None"
   ]
  },
  {
   "cell_type": "code",
   "execution_count": 105,
   "metadata": {},
   "outputs": [],
   "source": [
    "female['t-shirt size'] = female.apply(determine_individual_size, args =(female_sizes,), axis=1)\n",
    "male['t-shirt size'] = male.apply(determine_individual_size, args =(male_sizes,), axis=1)"
   ]
  },
  {
   "cell_type": "markdown",
   "metadata": {},
   "source": [
    "value_counts()\n",
    "Panda method that returns each unic value\n"
   ]
  },
  {
   "cell_type": "code",
   "execution_count": 106,
   "metadata": {},
   "outputs": [
    {
     "data": {
      "text/plain": [
       "t-shirt size\n",
       "L      276\n",
       "M      247\n",
       "S      185\n",
       "XL     118\n",
       "2XL     35\n",
       "XS      23\n",
       "3XL     13\n",
       "Name: count, dtype: int64"
      ]
     },
     "execution_count": 106,
     "metadata": {},
     "output_type": "execute_result"
    }
   ],
   "source": [
    "female['t-shirt size'].value_counts()"
   ]
  },
  {
   "cell_type": "code",
   "execution_count": 107,
   "metadata": {},
   "outputs": [
    {
     "data": {
      "text/plain": [
       "t-shirt size\n",
       "L      593\n",
       "M      578\n",
       "S      428\n",
       "XL     331\n",
       "2XL    101\n",
       "XS      63\n",
       "3XL     50\n",
       "Name: count, dtype: int64"
      ]
     },
     "execution_count": 107,
     "metadata": {},
     "output_type": "execute_result"
    }
   ],
   "source": [
    "male['t-shirt size'].value_counts()"
   ]
  }
 ],
 "metadata": {
  "kernelspec": {
   "display_name": "env",
   "language": "python",
   "name": "python3"
  },
  "language_info": {
   "codemirror_mode": {
    "name": "ipython",
    "version": 3
   },
   "file_extension": ".py",
   "mimetype": "text/x-python",
   "name": "python",
   "nbconvert_exporter": "python",
   "pygments_lexer": "ipython3",
   "version": "3.12.2"
  }
 },
 "nbformat": 4,
 "nbformat_minor": 2
}
