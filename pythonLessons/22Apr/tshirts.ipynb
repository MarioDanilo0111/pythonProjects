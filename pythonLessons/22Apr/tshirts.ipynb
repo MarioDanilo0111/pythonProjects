{
 "cells": [
  {
   "cell_type": "markdown",
   "metadata": {},
   "source": [
    "## Inspected data\n"
   ]
  },
  {
   "cell_type": "code",
   "execution_count": 24,
   "metadata": {},
   "outputs": [],
   "source": [
    "import pandas as pd\n",
    "\n",
    "female = pd.read_csv('./data/female.csv')\n",
    "male = pd.read_csv('./data/male.csv')"
   ]
  },
  {
   "cell_type": "markdown",
   "metadata": {},
   "source": [
    "Printig Values\n"
   ]
  },
  {
   "cell_type": "code",
   "execution_count": 25,
   "metadata": {},
   "outputs": [
    {
     "name": "stdout",
     "output_type": "stream",
     "text": [
      "From women: (rows, columns) (1986, 108)\n",
      "From men: (rows, columns) (4082, 108)\n"
     ]
    }
   ],
   "source": [
    "print(f'From women: (rows, columns) {female.shape}')\n",
    "print(f'From men: (rows, columns) {male.shape}')"
   ]
  },
  {
   "cell_type": "markdown",
   "metadata": {},
   "source": [
    "## Checking the percentiles\n",
    "\n",
    "Determining the percentiles of the data.\n"
   ]
  },
  {
   "cell_type": "code",
   "execution_count": 26,
   "metadata": {},
   "outputs": [
    {
     "name": "stdout",
     "output_type": "stream",
     "text": [
      "{(0, 5): 100, (5, 25): 403, (25, 50): 505, (50, 75): 505, (75, 90): 306, (90, 97): 140, (97, 100): 60}\n",
      "{(0, 5): 103, (5, 25): 412, (25, 50): 529, (50, 75): 586, (75, 90): 309, (90, 97): 147, (97, 100): 62}\n",
      "{(0, 5): 213, (5, 25): 824, (25, 50): 1046, (50, 75): 1033, (75, 90): 630, (90, 97): 301, (97, 100): 125}\n",
      "{(0, 5): 211, (5, 25): 861, (25, 50): 1090, (50, 75): 1148, (75, 90): 648, (90, 97): 303, (97, 100): 123}\n"
     ]
    }
   ],
   "source": [
    "def compute_percentile_range(column):\n",
    "  #Define percentile range\n",
    "  ranges = [(0, 5), (5, 25), (25, 50), (50, 75), (75, 90), (90, 97), (97, 100)]\n",
    "\n",
    "  #Define percentile ranks for each range\n",
    "  #beräkna percentiler för varje specificerat intervall\n",
    "  percentiles = {(low, high): (column.quantile(low/100), column.quantile(high/100)) for low, high in ranges}\n",
    "\n",
    "  # print(percentiles)\n",
    "  #antalet poster som faller inom varje percetilintervall\n",
    "  counts = {}\n",
    "\n",
    "  for r, (low, high) in percentiles.items():\n",
    "    counts[r] = ((column >= low) & (column <= high)).sum()\n",
    "  return counts\n",
    "\n",
    "print(compute_percentile_range(female['chestcircumference']))\n",
    "print(compute_percentile_range(female['biacromialbreadth']))\n",
    "\n",
    "print(compute_percentile_range(male['chestcircumference']))\n",
    "print(compute_percentile_range(male['biacromialbreadth']))"
   ]
  },
  {
   "cell_type": "markdown",
   "metadata": {},
   "source": [
    "## Generate T-shirt size Chart\n"
   ]
  },
  {
   "cell_type": "code",
   "execution_count": 27,
   "metadata": {},
   "outputs": [
    {
     "name": "stdout",
     "output_type": "stream",
     "text": [
      "{'XS': {'Chest': 695, 'Shoulder': 283}, 'S': {'Chest': 824, 'Shoulder': 335}, 'M': {'Chest': 889, 'Shoulder': 353}, 'L': {'Chest': 940, 'Shoulder': 365}, 'XL': {'Chest': 999, 'Shoulder': 378}, 'XXL': {'Chest': 1057, 'Shoulder': 389}, '3XL': {'Chest': 1117, 'Shoulder': 400}}\n",
      "{'XS': {'Chest': 774, 'Shoulder': 337}, 'S': {'Chest': 922, 'Shoulder': 384}, 'M': {'Chest': 996, 'Shoulder': 403}, 'L': {'Chest': 1056, 'Shoulder': 415}, 'XL': {'Chest': 1117, 'Shoulder': 428}, 'XXL': {'Chest': 1172, 'Shoulder': 441}, '3XL': {'Chest': 1233, 'Shoulder': 452}}\n"
     ]
    }
   ],
   "source": [
    "def compute_percentile_measurments(data, chest_column, shoulder_column):\n",
    "  sizes = ['XS', 'S', 'M', 'L', 'XL', 'XXL', '3XL']\n",
    "  ranges = [0,5,25,50,75,90,97]\n",
    "\n",
    "  #Compute the value for each percentile for chest \n",
    "  chest_percentiles = {p: data[chest_column].quantile(p/100) for p in ranges}\n",
    "  #Compute the value for each percentile for shoulder\n",
    "  shoulder_percentiles = {p: data[shoulder_column].quantile(p/100) for p in ranges}\n",
    "\n",
    "  # print(f'Chest Value:{chest_percentiles}')\n",
    "  # print(f'Shoulder Value:{shoulder_percentiles}')\n",
    "\n",
    "  #map the t-shirt sizes to the corresponding chest and shoulder measurments \n",
    "  size_mappings = {}\n",
    "  for i, size in enumerate(sizes):\n",
    "    size_mappings[size] = {\n",
    "      'Chest': int(chest_percentiles[ranges[i]]),\n",
    "      'Shoulder': int(shoulder_percentiles[ranges[i]])\n",
    "    }\n",
    "  return size_mappings\n",
    "\n",
    "female_sizes = compute_percentile_measurments(female, 'chestcircumference', 'biacromialbreadth')\n",
    "male_sizes = compute_percentile_measurments(male, 'chestcircumference', 'biacromialbreadth')\n",
    "\n",
    "print(female_sizes)\n",
    "print(male_sizes)"
   ]
  },
  {
   "cell_type": "code",
   "execution_count": 28,
   "metadata": {},
   "outputs": [
    {
     "data": {
      "text/plain": [
       "{'XS': {'Chest': 695, 'Shoulder': 283},\n",
       " 'S': {'Chest': 824, 'Shoulder': 335},\n",
       " 'M': {'Chest': 889, 'Shoulder': 353},\n",
       " 'L': {'Chest': 940, 'Shoulder': 365},\n",
       " 'XL': {'Chest': 999, 'Shoulder': 378},\n",
       " 'XXL': {'Chest': 1057, 'Shoulder': 389},\n",
       " '3XL': {'Chest': 1117, 'Shoulder': 400}}"
      ]
     },
     "execution_count": 28,
     "metadata": {},
     "output_type": "execute_result"
    }
   ],
   "source": [
    "female_sizes\n"
   ]
  },
  {
   "cell_type": "code",
   "execution_count": 29,
   "metadata": {},
   "outputs": [
    {
     "data": {
      "text/plain": [
       "{'XS': {'Chest': 774, 'Shoulder': 337},\n",
       " 'S': {'Chest': 922, 'Shoulder': 384},\n",
       " 'M': {'Chest': 996, 'Shoulder': 403},\n",
       " 'L': {'Chest': 1056, 'Shoulder': 415},\n",
       " 'XL': {'Chest': 1117, 'Shoulder': 428},\n",
       " 'XXL': {'Chest': 1172, 'Shoulder': 441},\n",
       " '3XL': {'Chest': 1233, 'Shoulder': 452}}"
      ]
     },
     "execution_count": 29,
     "metadata": {},
     "output_type": "execute_result"
    }
   ],
   "source": [
    "male_sizes"
   ]
  },
  {
   "cell_type": "code",
   "execution_count": 30,
   "metadata": {},
   "outputs": [],
   "source": [
    "def get_size(data, size_chart ):\n",
    "  #Create a dictionary with size as key and number of matches as value\n",
    "  matches = {size: 0 for size in size_chart.keys()}\n",
    "  ties = 0\n",
    "  \n",
    "  #Iterate through each row in the dataframe\n",
    "  for _, row in data.iterrows():\n",
    "    possible_sizes = []\n",
    "    #Loop through each size in the size chart\n",
    "    for size, measurments in size_chart.items():\n",
    "      #Check if the chest circumference and biacromial breadth are within the range of the size\n",
    "      if (row['biacromialbreadth'] <= measurments['Shoulder'] and \n",
    "          row['chestcircumference'] <= measurments['Chest']):\n",
    "          possible_sizes.append(size)\n",
    "   #if  only one size is possible, add 1 to the number of matches \n",
    "  if len(possible_sizes) == 1:\n",
    "          matches[possible_sizes[0]] += 1\n",
    "  #if there are more possible sizes, increce for ties\n",
    "  elif len(possible_sizes) > 1:\n",
    "          ties += 1\n",
    "\n",
    "  return matches, ties"
   ]
  },
  {
   "cell_type": "code",
   "execution_count": 31,
   "metadata": {},
   "outputs": [
    {
     "name": "stdout",
     "output_type": "stream",
     "text": [
      "Female matches: {'XS': 0, 'S': 0, 'M': 0, 'L': 0, 'XL': 0, 'XXL': 0, '3XL': 0}\n",
      "Female ties: 1\n",
      "Male matches: {'XS': 0, 'S': 0, 'M': 0, 'L': 0, 'XL': 0, 'XXL': 0, '3XL': 1}\n",
      "Male ties: 0\n"
     ]
    }
   ],
   "source": [
    "#Get the number of matches and ties for each size\n",
    "female_matches, female_ties = get_size(female, female_sizes)\n",
    "#Get the number of matches and ties for each size\n",
    "male_matches, male_ties = get_size(male, male_sizes)\n",
    "\n",
    "print(f'Female matches: {female_matches}')\n",
    "print(f'Female ties: {female_ties}')\n",
    "\n",
    "print(f'Male matches: {male_matches}')\n",
    "print(f'Male ties: {male_ties}')\n"
   ]
  },
  {
   "cell_type": "markdown",
   "metadata": {},
   "source": [
    "This is not goo. Let us have overlapping measurments.\n"
   ]
  },
  {
   "cell_type": "code",
   "execution_count": 32,
   "metadata": {},
   "outputs": [],
   "source": [
    "#Create a chart with overlapping sizes\n",
    "def create_overlapping_sizes_chart(original_chart):\n",
    "  overlapping_chart ={}\n",
    "  #Get the list of sizes from the original chart\n",
    "  sizes = list(original_chart.keys())\n",
    "  #Iterate through each size\n",
    "  for i, size in enumerate(sizes):\n",
    "    #Create an empty dictionary for each size in the original chart\n",
    "    overlapping_chart[size] = {}\n",
    "    #Manipulate special cases for the first and last size\n",
    "    if i == 0:\n",
    "      #Create the overlapping chart for the first size with 5 sizes\n",
    "      overlapping_chart[size]['Chest'] = [original_chart[size]['Chest'],\n",
    "      original_chart[sizes[i+1]]['Chest']+5]\n",
    "      overlapping_chart[size]['Shoulder'] = [original_chart[size]['Shoulder'],\n",
    "      original_chart[sizes[i+1]]['Shoulder']+5]\n",
    "    \n",
    "    elif i == len(sizes)-1:\n",
    "      #under size with substracting 5 units and over size adding 1000 units\n",
    "      overlapping_chart[size]['Chest'] = [original_chart[size]['Chest']-5, original_chart[size]['Chest']+1000]\n",
    "      overlapping_chart[size]['Shoulder'] = [original_chart[size]['Shoulder']-5, original_chart[size]['Shoulder']+1000]\n",
    "    \n",
    "    else:\n",
    "      overlapping_chart[size]['Chest'] = [original_chart[size]['Chest']-5, original_chart[size]['Chest']+5]\n",
    "      overlapping_chart[size]['Shoulder'] = [original_chart[size]['Shoulder']-5, original_chart[size]['Shoulder']+5]\n",
    "    \n",
    "  #returning the new tabel with overlapping sizes\n",
    "  return overlapping_chart\n"
   ]
  },
  {
   "cell_type": "code",
   "execution_count": 39,
   "metadata": {},
   "outputs": [
    {
     "name": "stdout",
     "output_type": "stream",
     "text": [
      "'XS', '{'Chest': [695, 829], 'Shoulder': [283, 340]}'\n",
      "'S', '{'Chest': [819, 829], 'Shoulder': [330, 340]}'\n",
      "'M', '{'Chest': [884, 894], 'Shoulder': [348, 358]}'\n",
      "'L', '{'Chest': [935, 945], 'Shoulder': [360, 370]}'\n",
      "'XL', '{'Chest': [994, 1004], 'Shoulder': [373, 383]}'\n",
      "'XXL', '{'Chest': [1052, 1062], 'Shoulder': [384, 394]}'\n",
      "'3XL', '{'Chest': [1112, 2117], 'Shoulder': [395, 1400]}'\n",
      "----\n",
      "'XS': '{'Chest': [774, 927], 'Shoulder': [337, 389]}', \n",
      "'S': '{'Chest': [917, 927], 'Shoulder': [379, 389]}', \n",
      "'M': '{'Chest': [991, 1001], 'Shoulder': [398, 408]}', \n",
      "'L': '{'Chest': [1051, 1061], 'Shoulder': [410, 420]}', \n",
      "'XL': '{'Chest': [1112, 1122], 'Shoulder': [423, 433]}', \n",
      "'XXL': '{'Chest': [1167, 1177], 'Shoulder': [436, 446]}', \n",
      "'3XL': '{'Chest': [1228, 2233], 'Shoulder': [447, 1452]}', \n"
     ]
    }
   ],
   "source": [
    "new_female_sizes = create_overlapping_sizes_chart(female_sizes)\n",
    "\"\"\" print(new_female_sizes) \"\"\"\n",
    "\n",
    "new_male_sizes = create_overlapping_sizes_chart(male_sizes)\n",
    "\"\"\" print(new_male_sizes) \"\"\"\n",
    "\n",
    "for k, v in new_female_sizes.items():\n",
    "  print(f\"'{k}', '{v}'\")\n",
    "print('----')\n",
    "\n",
    "for k, v in new_male_sizes.items():\n",
    "  print(f\"'{k}': '{v}', \")"
   ]
  }
 ],
 "metadata": {
  "kernelspec": {
   "display_name": "env",
   "language": "python",
   "name": "python3"
  },
  "language_info": {
   "codemirror_mode": {
    "name": "ipython",
    "version": 3
   },
   "file_extension": ".py",
   "mimetype": "text/x-python",
   "name": "python",
   "nbconvert_exporter": "python",
   "pygments_lexer": "ipython3",
   "version": "3.12.2"
  }
 },
 "nbformat": 4,
 "nbformat_minor": 2
}
